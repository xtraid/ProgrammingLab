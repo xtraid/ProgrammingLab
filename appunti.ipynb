{
 "cells": [
  {
   "cell_type": "markdown",
   "id": "382c8d74",
   "metadata": {},
   "source": [
    "# 1) trasformare cicli\n",
    " Fai 3 esempi di list comprension"
   ]
  },
  {
   "cell_type": "code",
   "execution_count": 4,
   "id": "44936c06",
   "metadata": {},
   "outputs": [
    {
     "ename": "ModuleNotFoundError",
     "evalue": "No module named 'numpy'",
     "output_type": "error",
     "traceback": [
      "\u001b[31m---------------------------------------------------------------------------\u001b[39m",
      "\u001b[31mModuleNotFoundError\u001b[39m                       Traceback (most recent call last)",
      "\u001b[36mCell\u001b[39m\u001b[36m \u001b[39m\u001b[32mIn[4]\u001b[39m\u001b[32m, line 1\u001b[39m\n\u001b[32m----> \u001b[39m\u001b[32m1\u001b[39m \u001b[38;5;28;01mimport\u001b[39;00m\u001b[38;5;250m \u001b[39m\u001b[34;01mnumpy\u001b[39;00m\u001b[38;5;250m \u001b[39m\u001b[38;5;28;01mas\u001b[39;00m\u001b[38;5;250m \u001b[39m\u001b[34;01mnp\u001b[39;00m\n\u001b[32m      2\u001b[39m \u001b[38;5;28mprint\u001b[39m(np.__version__)\n\u001b[32m      3\u001b[39m \u001b[38;5;66;03m#1a\u001b[39;00m\n",
      "\u001b[31mModuleNotFoundError\u001b[39m: No module named 'numpy'"
     ]
    }
   ],
   "source": [
    "import numpy as np\n",
    "print(np.__version__)\n",
    "#1a\n",
    "lista = []\n",
    "for i in range(100):\n",
    "    lista.append(i)\n",
    "list_comprehension = [i for i in range(100)]\n",
    "\n",
    "#1b\n",
    "lista = []\n",
    "for c in 'abcde':\n",
    "    lista.append(c)\n",
    "list_comprehension = [c for c in 'abcde']\n",
    "\n",
    "#1c\n",
    "lista = []\n",
    "for i in range(10):\n",
    "    if i % 2 == 0:\n",
    "        lista.append(i)\n",
    "list_comprehension = [i for i in range(10) if i % 2 == 0]\n"
   ]
  },
  {
   "cell_type": "markdown",
   "id": "c9d0e01c",
   "metadata": {},
   "source": [
    "# 2) vettore di primi tra 0 e n \n"
   ]
  },
  {
   "cell_type": "code",
   "execution_count": null,
   "id": "8a271958",
   "metadata": {},
   "outputs": [],
   "source": []
  }
 ],
 "metadata": {
  "kernelspec": {
   "display_name": "Python 3",
   "language": "python",
   "name": "python3"
  },
  "language_info": {
   "codemirror_mode": {
    "name": "ipython",
    "version": 3
   },
   "file_extension": ".py",
   "mimetype": "text/x-python",
   "name": "python",
   "nbconvert_exporter": "python",
   "pygments_lexer": "ipython3",
   "version": "3.13.1"
  }
 },
 "nbformat": 4,
 "nbformat_minor": 5
}
