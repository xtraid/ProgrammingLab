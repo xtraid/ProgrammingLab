{
 "cells": [
  {
   "cell_type": "markdown",
   "id": "62539ae2",
   "metadata": {},
   "source": [
    "# Esame Laboratorio di Programmazione I\n",
    "**Data: 07/02/2025**\n",
    "\n",
    "Il file GlobalTemperatures.csv contiene la serie temporale delle temperature medie mensili globali, registrate a partire da Gennaio 1900 a Dicembre 2015. Il primo elemento di ogni riga rappresenta la data (colonna dt) mentre il secondo elemento (LandAverageTemperature) rappresenta la temperatura media globale per quel mese.\n",
    "\n",
    "Vogliamo leggere questo tipo di dati e calcolare, dato un intervallo di anni, la differenza tra la temperatura media annuale e la media degli N anni precedenti.\n",
    "\n",
    "## Svolgimento\n",
    "Chiamate il file in cui scrivere il vostro codice `esame_matricola.py`. Commentate bene il codice descrivendo quello che fate!!!\n",
    "\n",
    "### 1 (8 punti) Leggere i dati e processarli\n",
    "Create la classe `CSVTimeSeriesFile`.\n",
    "- La classe deve essere istanziata con il nome del file tramite la variabile `name`\n",
    "- Deve avere un metodo `get_data()` che torni una lista di liste, dove il primo elemento delle liste annidate è la data ed il secondo la temperatura media mensile.\n",
    "\n",
    "Questa classe si dovrà quindi poter usare così:\n",
    "```python\n",
    "time_series_file = CSVTimeSeriesFile(name='GlobalTemperatures.csv')\n",
    "time_series = time_series_file.get_data()\n",
    "```\n"
   ]
  },
  {
   "cell_type": "code",
   "execution_count": 27,
   "id": "c180e264",
   "metadata": {},
   "outputs": [
    {
     "name": "stdout",
     "output_type": "stream",
     "text": [
      "[['1900-01-01', -1.0], ['1900-02-01', 11.19], ['1900-03-01', -1.0], ['1900-04-01', 8.51], ['1900-05-01', 7.23]]\n"
     ]
    }
   ],
   "source": [
    "#esame \n",
    "class ExamException(Exception):\n",
    "    pass\n",
    "\n",
    "class CSVTimeSeriesFile:\n",
    "    def __init__(self, name):\n",
    "        self.name=name\n",
    "    \n",
    "    def get_data(self):\n",
    "        #ritorna una lista di liste con come primo argomento la data e il secondo la media mensile \n",
    "        #esempio [['2020-01-01', 12.5], ['2020-02-01', 15.0], ...]\n",
    "        data = []\n",
    "        try:\n",
    "            with open(self.name, 'r') as file:\n",
    "                for line in file:\n",
    "                    element= line.strip().split(',')\n",
    "                    if len(element) == 2 and element[0] != 'dt':\n",
    "                        try:\n",
    "                            avg=float(element[1])\n",
    "                        except:\n",
    "                        #print(\"errore di inserimento, inserisco un valore di default\")\n",
    "                            avg=-1.0\n",
    "                        data.append([element[0], avg])\n",
    "            return data\n",
    "        except FileNotFoundError:\n",
    "            raise ExamException(\"File not found\")\n",
    "\n",
    "\n",
    "        except:\n",
    "            raise ExamException\n",
    "\n",
    "\n",
    "\n",
    "time_series_file = CSVTimeSeriesFile(name='GlobalTemperatures.csv')\n",
    "time_series = time_series_file.get_data()\n",
    "print(time_series[:5])\n"
   ]
  },
  {
   "cell_type": "markdown",
   "id": "6b4e6183",
   "metadata": {},
   "source": [
    "\n",
    "### 2 (14 punti) Calcolare la variazione delle temperature\n",
    "Per calcolare la differenza tra la temperatura media annuale e la media degli N anni precedenti in un certo intervallo, dovete creare una funzione a sé stante (definita NON nella classe `CSVTimeSeriesFile` ma direttamente nel corpo principale del programma), di nome `compute_variations`, che ha come input la serie temporale, l'intervallo ed il parametro N della lunghezza della finestra e verrà usata così:\n",
    "\n",
    "```python\n",
    "compute_variations(time_series, first_year, last_year, N)\n",
    "```\n",
    "\n",
    "Dove `first_year` e `last_year` corrispondono agli estremi dell'intervallo di anni da considerare (inclusi) e dovrà ritornare in output (tramite un return) un dizionario, dove le chiavi sono gli anni presi in considerazione nell'intervallo ed i valori la differenza tra la temperatura media annuale di quell'anno e la media mobile degli N anni precedenti. Gli anni che possiamo calcolare dipendono dal parametro N. Quindi ad esempio, supponiamo di considerare l'intervallo 1900-1904 con N = 3.\n",
    "\n",
    "La funzione dovrà:\n",
    "- Raggruppare i dati per anno, per gli anni dell'intervallo:\n",
    "  - 1900: [8.5, 9.2, 10.1, ...]\n",
    "  - 1901: [8.7, 9.0, 9.8, ...]\n",
    "  - ...\n",
    "- Calcolare la media annuale per ciascun anno\n",
    "- Calcolare la media basata sui 3 anni precedenti (disponibile solo a partire dal 1903 se no esco dall'intervallo preso in considerazione):\n",
    "  \n",
    "  Media Mobile 1903 = (Media 1900 + Media 1901 + Media 1902) / 3\n",
    "  \n",
    "  Media Mobile 1904 = (Media 1901 + Media 1902 + Media 1903) / 3\n",
    "\n",
    "- Calcolare la differenza tra la temperatura media annuale e la media dei 3 anni precedenti (solo per 1903 e 1904):\n",
    "  \n",
    "  valore_1903 : Media annuale - Media mobile 1903\n",
    "  2\n",
    "  valore_1904 : Media annuale - Media mobile 1904\n",
    "\n",
    "- Restituire un dizionario strutturato così:\n",
    "  ```python\n",
    "  {\n",
    "    \"1903\": valore_1903,\n",
    "    \"1904\": valore_1904\n",
    "  }\n",
    "  ```\n",
    "\n"
   ]
  },
  {
   "cell_type": "markdown",
   "id": "e2375c73",
   "metadata": {},
   "source": [
    "### 3 (8 punti) Eccezioni e Controllo dell'input\n",
    "Le eccezioni da alzare in caso di input non corretti o casi limite devono essere istanze di una specifica classe `ExamException`, che dovete definire nel codice come segue, senza modifica alcuna (copia-incollate le due righe):\n",
    "\n",
    "```python\n",
    "class ExamException(Exception):\n",
    "    pass\n",
    "```\n",
    "\n",
    "... e che poi userete come una normale eccezione, ad esempio:\n",
    "\n",
    "```python\n",
    "raise ExamException(\"Errore: impossibile aprire il file.\")\n",
    "```\n",
    "\n",
    "Per l'esame dovete considerare che:\n",
    "- **(2 punti)** La classe CSVTimeSeriesFile deve controllare l'esistenza del file nell'`__init__()` (non in `get_data`) e, nel caso il file non esista o non sia leggibile, alza un'eccezione.\n",
    "- **(2 punti)** I valori che leggete dal file CSV sono da aspettarsi di tipo float, un valore non numerico, oppure vuoto o nullo o negativo non deve essere accettato, ma tutto deve procedere comunque senza alzare eccezioni.\n",
    "- **(2 punti)** possono mancare misurazioni di mesi. Se mancano misurazioni per uno o più mesi, il valore medio delle temperatura andrà calcolato sul numero di mesi per cui abbiamo le misurazioni.\n",
    "- **(2 punti)** Il parametro della finestra N deve essere strettamente minore della lunghezza dell'intervallo considerato altrimenti non possiamo calcolare nessun valore, nel caso non sia così alzare un'eccezione.\n",
    "\n",
    "## Parte opzionale (per la Lode, solo se tutto il resto è giusto)\n",
    "Aggiungere una funzione che, dato un intervallo di temperatura, mi calcola gli anni che hanno almeno un mese con un valore fuori dall'intervallo. Considerare le eccezioni per l'inserimento sbagliato degli estremi dell'intervallo."
   ]
  },
  {
   "cell_type": "code",
   "execution_count": 17,
   "id": "8d2de1df",
   "metadata": {},
   "outputs": [
    {
     "name": "stdout",
     "output_type": "stream",
     "text": [
      "['10-2-2020', '']\n",
      "errore di inserimento, inserisco un valore di default\n"
     ]
    },
    {
     "data": {
      "text/plain": [
       "['10-2-2020', -1.0]"
      ]
     },
     "execution_count": 17,
     "metadata": {},
     "output_type": "execute_result"
    }
   ],
   "source": [
    "string=\"10-2-2020,\"\n",
    "element=string.strip().split(\",\")\n",
    "print(element)\n",
    "try:\n",
    "    avg=float(element[1])\n",
    "except:\n",
    "    print(\"errore di inserimento, inserisco un valore di default\")\n",
    "    avg=-1.0\n",
    "data=[element[0], avg]\n",
    "data"
   ]
  }
 ],
 "metadata": {
  "kernelspec": {
   "display_name": "myVenv",
   "language": "python",
   "name": "python3"
  },
  "language_info": {
   "codemirror_mode": {
    "name": "ipython",
    "version": 3
   },
   "file_extension": ".py",
   "mimetype": "text/x-python",
   "name": "python",
   "nbconvert_exporter": "python",
   "pygments_lexer": "ipython3",
   "version": "3.13.5"
  }
 },
 "nbformat": 4,
 "nbformat_minor": 5
}
