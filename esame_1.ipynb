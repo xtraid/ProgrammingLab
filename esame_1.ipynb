{
 "cells": [
  {
   "cell_type": "code",
   "execution_count": null,
   "id": "9ccdab1b",
   "metadata": {},
   "outputs": [],
   "source": [
    "divmod"
   ]
  }
 ],
 "metadata": {
  "language_info": {
   "name": "python"
  }
 },
 "nbformat": 4,
 "nbformat_minor": 5
}
