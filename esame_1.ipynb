{
 "cells": [
  {
   "cell_type": "markdown",
   "id": "62539ae2",
   "metadata": {},
   "source": [
    "Il file GlobalTemperatures.csv contiene la serie temporale delle temperature medie mensili\n",
    "globali, registrate a partire da Gennaio 1900 a Dicembre 2015. Il primo elemento di ogni riga rap-\n",
    "presenta la data (colonna dt) mentre il secondo elemento (LandAverageTemperature) rappresenta\n",
    "la temperatura media globale per quel mese.\n",
    "Vogliamo leggere questo tipo di dati e calcolare, dato un intervallo di anni, la differenza tra\n",
    "la temperatura media annuale e la media degli N anni precedenti.\n",
    "# Svolgimento\n",
    "Chiamate il file in cui scrivere il vostro codice esame matricola.py. Commentate bene il codice\n",
    "descrivendo quello che fate!!!\n",
    "\n",
    "\n",
    "\n",
    "# Esercizio 1 (8 punti) - Leggere i dati e processarli\n",
    "\n",
    "In questo esercizio dobbiamo creare una classe chiamata `CSVTimeSeriesFile`.\n",
    "\n",
    "## Specifiche della classe:\n",
    "- La classe deve essere istanziata con il nome del file tramite la variabile `name`\n",
    "- Deve implementare un metodo `get_data()` che restituisce una lista di liste\n",
    "- In ogni sottolista, il primo elemento rappresenta la data e il secondo la temperatura media mensile\n",
    "\n",
    "## Esempio di utilizzo:\n",
    "```python\n",
    "time_series_file = CSVTimeSeriesFile(name='GlobalTemperatures.csv')\n",
    "time_series = time_series_file.get_data()"
   ]
  },
  {
   "cell_type": "code",
   "execution_count": null,
   "id": "9ccdab1b",
   "metadata": {},
   "outputs": [],
   "source": []
  }
 ],
 "metadata": {
  "language_info": {
   "name": "python"
  }
 },
 "nbformat": 4,
 "nbformat_minor": 5
}
